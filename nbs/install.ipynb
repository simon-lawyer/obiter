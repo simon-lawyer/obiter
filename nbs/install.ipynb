{
 "cells": [
  {
   "cell_type": "markdown",
   "id": "828472c8",
   "metadata": {},
   "source": [
    "---\n",
    "title: Install\n",
    "\n",
    "---"
   ]
  },
  {
   "cell_type": "markdown",
   "id": "fcebd7bb",
   "metadata": {},
   "source": [
    "Obiter.Ai is a Python library and can be installed with pip.\n",
    "\n",
    "```sh\n",
    "pip install obiter\n",
    "```\n",
    "Click through the links of the left to find documentation and demos for the library.\n",
    "\n",
    "If you are interested in learning Python, I suggest beginning with [Automate the Boring Stuff](https://automatetheboringstuff.com)."
   ]
  },
  {
   "cell_type": "markdown",
   "id": "99b626c1",
   "metadata": {},
   "source": [
    "## Functionality\n",
    "\n",
    "### [Interact with CanLii programmatically](00_CanLii.ipynb)\n",
    "[CanLii](canlii.org) allows access to case metadata thorugh an API. Obiter.AI simplifies the process of interacting the CanLii API. The object of this library is to reduce the friction for lawyers and law students who want to begin using computational research tools but are not yet confident coders.\n",
    "\n",
    "### Transcribe hearings\n",
    "Coming soon.\n",
    "\n",
    "### Network analyses of citations \n",
    "Coming soon."
   ]
  }
 ],
 "metadata": {
  "kernelspec": {
   "display_name": "Python 3 (ipykernel)",
   "language": "python",
   "name": "python3"
  }
 },
 "nbformat": 4,
 "nbformat_minor": 5
}
