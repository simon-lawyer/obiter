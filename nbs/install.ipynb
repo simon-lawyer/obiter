{
 "cells": [
  {
   "cell_type": "markdown",
   "id": "828472c8",
   "metadata": {},
   "source": [
    "---\n",
    "title: Install\n",
    "\n",
    "---"
   ]
  },
  {
   "cell_type": "markdown",
   "id": "fcebd7bb",
   "metadata": {},
   "source": [
    "Obiter.Ai is a Python library that can be installed with pip.\n",
    "\n",
    "```sh\n",
    "pip install obiter\n",
    "```\n",
    "Click through the links of the left to find documentation and demos for the library.\n",
    "\n",
    "If you are interested in learning Python, I suggest beginning with [Automate the Boring Stuff](https://automatetheboringstuff.com)."
   ]
  },
  {
   "attachments": {},
   "cell_type": "markdown",
   "id": "99b626c1",
   "metadata": {},
   "source": [
    "## Functionality\n",
    "\n",
    "### [Interact with CanLii programmatically](00_CanLii.ipynb)\n",
    "[CanLii](canlii.org) allows access to case metadata through an [API](https://github.com/canlii/API_documentation/blob/master/EN.md). This module simplifies the process of interacting the CanLii API. The library's object is to reduce the friction for lawyers and law students who want to begin using computational research tools but are not yet confident coders.\n",
    "\n",
    "### [Use the World Gender Name Dictionary (WGND) to assess gendered valances of names](01_wgnd.ipynb)\n",
    "The WGND is a tool that was originally developed to help historians of science measure women's contributions to patents. This thin wrapper over the tool allows researchers to check millions of of names to see whether it has a consistent recorded gender valence.\n",
    "\n",
    "### Transcribe hearings\n",
    "Coming soon.\n",
    "\n",
    "### Network analyses of citations \n",
    "Coming soon."
   ]
  }
 ],
 "metadata": {
  "kernelspec": {
   "display_name": "Python 3 (ipykernel)",
   "language": "python",
   "name": "python3"
  }
 },
 "nbformat": 4,
 "nbformat_minor": 5
}
