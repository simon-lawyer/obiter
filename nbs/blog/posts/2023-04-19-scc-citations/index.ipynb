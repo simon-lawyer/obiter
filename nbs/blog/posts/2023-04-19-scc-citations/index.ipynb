{
 "cells": [
  {
   "cell_type": "raw",
   "metadata": {},
   "source": [
    "---\n",
    "title: \"Revisting (computationally) an earlier study regarding SCC citation practices\"\n",
    "description: \"Which scholars are cited the most by the Supreme Court of Canada?\"\n",
    "author: \"Simon Wallace\"\n",
    "date: \"04/19/2023\"\n",
    "sidebar: false\n",
    "image: judge_prof.jpg\n",
    "\n",
    "---"
   ]
  },
  {
   "attachments": {},
   "cell_type": "markdown",
   "metadata": {},
   "source": [
    "In 1993, Vaughan Black and Nicholas Richter published [*Did She Mention My Name: Citation of Academic Authority by the Supreme Court of Canada](https://digitalcommons.schulichlaw.dal.ca/dlj/vol16/iss2/3/), 1985-1990* in the Dalhousie Law Journal. The article examined the citation practices of Supreme Court of Canada justices and found that, *inter alia* SCC judges cited 2 scholarly texts per judgement.\n",
    "\n",
    "![](https://obiter.ai/blog/posts/2023-04-19-scc-citations/judge_prof.jpg)\n",
    "\n",
    "To my knowledge, the study has not been repeated since. And little wonder: it was a labour intensive project. In addition to the two co-authors, the research team appears to have included three research assistants. They would review each set of judgements issued by the SCC, identify the citations, and then manually build a dataset.\n",
    "\n",
    "In this notebook, I want to show how how we can use computational methodologies to repeat and extend this study with just a few hours of work. We will see how it goes, but my plan is to answer two questions:\n",
    "\n",
    "- are SCC judges citing more or fewer scholarly texts per decision?\n",
    "- who is cited the most?\n",
    "\n",
    "My main ambition is to showcase what can be done when researchers have ready access to lots of legal data. Until recently, it was difficult for researchers to access law in bulk. Fortunately, Professor Sean Rehaag of Osgoode Hall Law School just published a [comprehensive dataset of SCC judgements](https://refugeelab.ca/bulk-data/scc/). I want to show one way how researchers can interact with this dataset."
   ]
  },
  {
   "attachments": {},
   "cell_type": "markdown",
   "metadata": {},
   "source": [
    "We will begin by downloading the dataset and loading it into a Pandas dataframe. Pandas is like Excel for Python. It is a powerful tool for working with data. We will use it to clean the data and to answer our questions."
   ]
  },
  {
   "cell_type": "code",
   "execution_count": 1,
   "metadata": {},
   "outputs": [],
   "source": [
    "#first we import pandas to manage and manipulate the data\n",
    "import pandas as pd\n",
    "#we use the json library to read the data\n",
    "import json\n",
    "#we use requests to download the data\n",
    "import requests\n",
    "\n",
    "# Set variables\n",
    "start_year = 1990  # We will pick up from the last year studied by Black and Richter\n",
    "end_year = 2022  # Last year of data sought (2022 -)\n",
    "\n",
    "# load data\n",
    "base_ulr = 'https://raw.githubusercontent.com/Refugee-Law-Lab/scc_bulk_data/master/DATA/YEARLY/'\n",
    "\n",
    "# retrieve the data\n",
    "results = []\n",
    "for year in range(start_year, end_year+1):\n",
    "    url = base_ulr + f'{year}.json'\n",
    "    results.extend(requests.get(url).json())\n",
    "\n",
    "# convert to dataframe\n",
    "df = pd.DataFrame(results)\n"
   ]
  },
  {
   "cell_type": "code",
   "execution_count": 42,
   "metadata": {},
   "outputs": [],
   "source": [
    "# filter by language\n",
    "df = df[df['language'] == 'en']"
   ]
  },
  {
   "attachments": {},
   "cell_type": "markdown",
   "metadata": {},
   "source": [
    "Now we can take a look at the data. Let's begin by looking at the first five rows."
   ]
  },
  {
   "cell_type": "code",
   "execution_count": 43,
   "metadata": {},
   "outputs": [
    {
     "data": {
      "text/html": [
       "<div>\n",
       "<style scoped>\n",
       "    .dataframe tbody tr th:only-of-type {\n",
       "        vertical-align: middle;\n",
       "    }\n",
       "\n",
       "    .dataframe tbody tr th {\n",
       "        vertical-align: top;\n",
       "    }\n",
       "\n",
       "    .dataframe thead th {\n",
       "        text-align: right;\n",
       "    }\n",
       "</style>\n",
       "<table border=\"1\" class=\"dataframe\">\n",
       "  <thead>\n",
       "    <tr style=\"text-align: right;\">\n",
       "      <th></th>\n",
       "      <th>citation</th>\n",
       "      <th>citation2</th>\n",
       "      <th>year</th>\n",
       "      <th>name</th>\n",
       "      <th>language</th>\n",
       "      <th>decision_date</th>\n",
       "      <th>source_url</th>\n",
       "      <th>scraped_timestamp</th>\n",
       "      <th>unofficial_text</th>\n",
       "    </tr>\n",
       "  </thead>\n",
       "  <tbody>\n",
       "    <tr>\n",
       "      <th>0</th>\n",
       "      <td>[1990] 1 SCR 1005</td>\n",
       "      <td></td>\n",
       "      <td>1990</td>\n",
       "      <td>R. v. Fitzgibbon</td>\n",
       "      <td>en</td>\n",
       "      <td>1990-05-17</td>\n",
       "      <td>https://decisions.scc-csc.ca/scc-csc/scc-csc/e...</td>\n",
       "      <td>2022-09-01</td>\n",
       "      <td>R. v. Fitzgibbon\\nCollection\\nSupreme Court Ju...</td>\n",
       "    </tr>\n",
       "    <tr>\n",
       "      <th>1</th>\n",
       "      <td>[1990] 1 SCR 1020</td>\n",
       "      <td></td>\n",
       "      <td>1990</td>\n",
       "      <td>R. v. Saunders</td>\n",
       "      <td>en</td>\n",
       "      <td>1990-05-17</td>\n",
       "      <td>https://decisions.scc-csc.ca/scc-csc/scc-csc/e...</td>\n",
       "      <td>2022-09-01</td>\n",
       "      <td>R. v. Saunders\\nCollection\\nSupreme Court Judg...</td>\n",
       "    </tr>\n",
       "    <tr>\n",
       "      <th>2</th>\n",
       "      <td>[1990] 1 SCR 1025</td>\n",
       "      <td></td>\n",
       "      <td>1990</td>\n",
       "      <td>R. v. Sioui</td>\n",
       "      <td>en</td>\n",
       "      <td>1990-05-24</td>\n",
       "      <td>https://decisions.scc-csc.ca/scc-csc/scc-csc/e...</td>\n",
       "      <td>2022-09-01</td>\n",
       "      <td>R. v. Sioui\\nCollection\\nSupreme Court Judgmen...</td>\n",
       "    </tr>\n",
       "    <tr>\n",
       "      <th>3</th>\n",
       "      <td>[1990] 1 SCR 1075</td>\n",
       "      <td></td>\n",
       "      <td>1990</td>\n",
       "      <td>R. v. Sparrow</td>\n",
       "      <td>en</td>\n",
       "      <td>1990-05-31</td>\n",
       "      <td>https://decisions.scc-csc.ca/scc-csc/scc-csc/e...</td>\n",
       "      <td>2022-09-01</td>\n",
       "      <td>R. v. Sparrow\\nCollection\\nSupreme Court Judgm...</td>\n",
       "    </tr>\n",
       "    <tr>\n",
       "      <th>4</th>\n",
       "      <td>[1990] 1 SCR 1123</td>\n",
       "      <td></td>\n",
       "      <td>1990</td>\n",
       "      <td>Reference re ss. 193 and 195.1(1)(C) of the cr...</td>\n",
       "      <td>en</td>\n",
       "      <td>1990-05-31</td>\n",
       "      <td>https://decisions.scc-csc.ca/scc-csc/scc-csc/e...</td>\n",
       "      <td>2022-09-01</td>\n",
       "      <td>Reference re ss. 193 and 195.1(1)(C) of the cr...</td>\n",
       "    </tr>\n",
       "  </tbody>\n",
       "</table>\n",
       "</div>"
      ],
      "text/plain": [
       "            citation citation2  year  \\\n",
       "0  [1990] 1 SCR 1005            1990   \n",
       "1  [1990] 1 SCR 1020            1990   \n",
       "2  [1990] 1 SCR 1025            1990   \n",
       "3  [1990] 1 SCR 1075            1990   \n",
       "4  [1990] 1 SCR 1123            1990   \n",
       "\n",
       "                                                name language decision_date  \\\n",
       "0                                   R. v. Fitzgibbon       en    1990-05-17   \n",
       "1                                     R. v. Saunders       en    1990-05-17   \n",
       "2                                        R. v. Sioui       en    1990-05-24   \n",
       "3                                      R. v. Sparrow       en    1990-05-31   \n",
       "4  Reference re ss. 193 and 195.1(1)(C) of the cr...       en    1990-05-31   \n",
       "\n",
       "                                          source_url scraped_timestamp  \\\n",
       "0  https://decisions.scc-csc.ca/scc-csc/scc-csc/e...        2022-09-01   \n",
       "1  https://decisions.scc-csc.ca/scc-csc/scc-csc/e...        2022-09-01   \n",
       "2  https://decisions.scc-csc.ca/scc-csc/scc-csc/e...        2022-09-01   \n",
       "3  https://decisions.scc-csc.ca/scc-csc/scc-csc/e...        2022-09-01   \n",
       "4  https://decisions.scc-csc.ca/scc-csc/scc-csc/e...        2022-09-01   \n",
       "\n",
       "                                     unofficial_text  \n",
       "0  R. v. Fitzgibbon\\nCollection\\nSupreme Court Ju...  \n",
       "1  R. v. Saunders\\nCollection\\nSupreme Court Judg...  \n",
       "2  R. v. Sioui\\nCollection\\nSupreme Court Judgmen...  \n",
       "3  R. v. Sparrow\\nCollection\\nSupreme Court Judgm...  \n",
       "4  Reference re ss. 193 and 195.1(1)(C) of the cr...  "
      ]
     },
     "execution_count": 43,
     "metadata": {},
     "output_type": "execute_result"
    }
   ],
   "source": [
    "df.head(5)"
   ]
  },
  {
   "cell_type": "code",
   "execution_count": 44,
   "metadata": {},
   "outputs": [
    {
     "data": {
      "text/plain": [
       "(2677, 9)"
      ]
     },
     "execution_count": 44,
     "metadata": {},
     "output_type": "execute_result"
    }
   ],
   "source": [
    "df.shape"
   ]
  },
  {
   "attachments": {},
   "cell_type": "markdown",
   "metadata": {},
   "source": [
    "This shows us how the data looks. On each row we have the citation, the year, the language, the decision_date, the source_url, the time Professor Rehaag scraped the data, at the text.\n",
    "\n",
    "The interesting thing for our purposes (take my word for it, I won't reproduce a judgement here) is that the beginning of each SCC case includes a section entitled 'Authors cited' right before a section that always begins in capital letters explaining where the matter was appealed from. We can try to computationally isolate that section. We will use some regex magic to do this."
   ]
  },
  {
   "cell_type": "code",
   "execution_count": 46,
   "metadata": {},
   "outputs": [
    {
     "name": "stdout",
     "output_type": "stream",
     "text": [
      "\n",
      "Canada. Law Reform Commission. Working Paper 5. Restitution and Compensation. Ottawa: Information Canada, 1974.\n",
      "Duncan, Lewis. Bankruptcy in Canada, 3rd ed. By Lewis Duncan and John D. Honsberger. Toronto: Canadian Legal Authors, 1961.\n",
      "\n"
     ]
    }
   ],
   "source": [
    "import re\n",
    "\n",
    "def split_on_three_uppercase_letters(s):\n",
    "    # Define a regex pattern to match three uppercase letters in a row\n",
    "    pattern = r'[A-Z]{3}'\n",
    "    # Use re.split to split the string based on the pattern\n",
    "    result = re.split(pattern, s)\n",
    "    return result\n",
    "\n",
    "#split the text on the first occurence of 'Authors Cited'\n",
    "first = df.loc[0, 'unofficial_text'].split('Authors Cited')[1]\n",
    "\n",
    "#split the text as soon as three uppercase letters are found\n",
    "result = split_on_three_uppercase_letters(first)[0]\n",
    "\n",
    "print(result)"
   ]
  },
  {
   "attachments": {},
   "cell_type": "markdown",
   "metadata": {},
   "source": [
    "Great! That worked really well. Let's break up the data a bit more so each citation is isolated."
   ]
  },
  {
   "cell_type": "code",
   "execution_count": 47,
   "metadata": {},
   "outputs": [
    {
     "data": {
      "text/plain": [
       "['Canada. Law Reform Commission. Working Paper 5. Restitution and Compensation. Ottawa: Information Canada, 1974.',\n",
       " 'Duncan, Lewis. Bankruptcy in Canada, 3rd ed. By Lewis Duncan and John D. Honsberger. Toronto: Canadian Legal Authors, 1961.']"
      ]
     },
     "execution_count": 47,
     "metadata": {},
     "output_type": "execute_result"
    }
   ],
   "source": [
    "cites = [citation for citation in result.split('\\n') if citation != '']\n",
    "cites"
   ]
  },
  {
   "attachments": {},
   "cell_type": "markdown",
   "metadata": {},
   "source": [
    "Now let's try to run this accross the entire dataset. There will certainly be problems that arise, but we can deal with them as they come up. We are going to make a new dataframe with citations."
   ]
  },
  {
   "cell_type": "code",
   "execution_count": 48,
   "metadata": {},
   "outputs": [
    {
     "name": "stdout",
     "output_type": "stream",
     "text": [
      "There were 1115 cases where this method failed.\n"
     ]
    }
   ],
   "source": [
    "master = pd.DataFrame()\n",
    "count = 0\n",
    "for idx,row in df.iterrows():\n",
    "    try:\n",
    "        first = row['unofficial_text'].split('Authors Cited')[1]\n",
    "        result = split_on_three_uppercase_letters(first)[0]\n",
    "        cites = [citation for citation in result.split('\\n') if citation != '']\n",
    "        for citation in cites:\n",
    "            row_df = pd.DataFrame({'year': [row['year']],\n",
    "                            'decision_citation': [row['citation']],\n",
    "                            'cites': [citation]})\n",
    "            master = pd.concat([master, row_df], axis=0, ignore_index=True)\n",
    "    except:\n",
    "        count += 1\n",
    "\n",
    "print(f'There were {count} cases where this method failed.')"
   ]
  },
  {
   "attachments": {},
   "cell_type": "markdown",
   "metadata": {},
   "source": [
    "So right away we get an error. It looks like in this decision there isn't a section entitled 'Authors cited'. Let's take a look at the text."
   ]
  },
  {
   "attachments": {},
   "cell_type": "markdown",
   "metadata": {},
   "source": [
    "So there were 1115 cases where this didn't work. We can see what this was of the total by looking at the shape of the dataframe."
   ]
  },
  {
   "cell_type": "code",
   "execution_count": 57,
   "metadata": {},
   "outputs": [
    {
     "name": "stdout",
     "output_type": "stream",
     "text": [
      "The dataframe has these dimensions: (2677, 9).\n",
      "This method failed on 41% of the cases.\n"
     ]
    }
   ],
   "source": [
    "print(f'The dataframe has these dimensions: {df.shape}.')\n",
    "math = int((1115/df.shape[0])*100)\n",
    "print(f'This method failed on {math}% of the cases.')"
   ]
  },
  {
   "cell_type": "markdown",
   "metadata": {},
   "source": [
    "It is probable that many of these cases just don't cite scholarly work. That would be our first interesting finding. But let's look to see if we can confirm that."
   ]
  },
  {
   "cell_type": "code",
   "execution_count": 59,
   "metadata": {},
   "outputs": [
    {
     "data": {
      "text/plain": [
       "True     1562\n",
       "False    1115\n",
       "Name: unofficial_text, dtype: int64"
      ]
     },
     "execution_count": 59,
     "metadata": {},
     "output_type": "execute_result"
    }
   ],
   "source": [
    "df['unofficial_text'].str.contains('Authors Cited').value_counts()"
   ]
  },
  {
   "attachments": {},
   "cell_type": "markdown",
   "metadata": {},
   "source": [
    "Confirmed. If this were a real study, we would need to sample some decisions to confirm that that's the case. But for now let's assume that it is.\n",
    "\n",
    "Let's see what we can learn about our citations by plotting the number of citations each year and the average number of citations per case, per year."
   ]
  },
  {
   "cell_type": "code",
   "execution_count": 68,
   "metadata": {},
   "outputs": [
    {
     "data": {
      "text/plain": [
       "<AxesSubplot: xlabel='year'>"
      ]
     },
     "execution_count": 68,
     "metadata": {},
     "output_type": "execute_result"
    },
    {
     "data": {
      "image/png": "[encoded data removed]",
      "text/plain": [
       "<Figure size 640x480 with 1 Axes>"
      ]
     },
     "metadata": {},
     "output_type": "display_data"
    }
   ],
   "source": [
    "master.groupby('year')['decision_citation'].count().plot()"
   ]
  },
  {
   "cell_type": "code",
   "execution_count": 179,
   "metadata": {},
   "outputs": [
    {
     "data": {
      "text/html": [
       "<div>\n",
       "<style scoped>\n",
       "    .dataframe tbody tr th:only-of-type {\n",
       "        vertical-align: middle;\n",
       "    }\n",
       "\n",
       "    .dataframe tbody tr th {\n",
       "        vertical-align: top;\n",
       "    }\n",
       "\n",
       "    .dataframe thead th {\n",
       "        text-align: right;\n",
       "    }\n",
       "</style>\n",
       "<table border=\"1\" class=\"dataframe\">\n",
       "  <thead>\n",
       "    <tr style=\"text-align: right;\">\n",
       "      <th></th>\n",
       "      <th>year</th>\n",
       "      <th>decision_citation</th>\n",
       "      <th>cites</th>\n",
       "      <th>authors</th>\n",
       "      <th>title</th>\n",
       "      <th>publication</th>\n",
       "      <th>year_pub</th>\n",
       "    </tr>\n",
       "  </thead>\n",
       "  <tbody>\n",
       "    <tr>\n",
       "      <th>0</th>\n",
       "      <td>1990</td>\n",
       "      <td>[1990] 1 SCR 1005</td>\n",
       "      <td>Canada. Law Reform Commission. Working Paper 5...</td>\n",
       "      <td>Canada. Law Reform Commission</td>\n",
       "      <td>Restitution and Compensation</td>\n",
       "      <td>Working Paper 5</td>\n",
       "      <td>1974</td>\n",
       "    </tr>\n",
       "    <tr>\n",
       "      <th>1</th>\n",
       "      <td>1990</td>\n",
       "      <td>[1990] 1 SCR 1005</td>\n",
       "      <td>Duncan, Lewis. Bankruptcy in Canada, 3rd ed. B...</td>\n",
       "      <td>Duncan, Lewis; Honsberger, John D.</td>\n",
       "      <td>Bankruptcy in Canada, 3rd ed.</td>\n",
       "      <td>Book</td>\n",
       "      <td>1961</td>\n",
       "    </tr>\n",
       "    <tr>\n",
       "      <th>2</th>\n",
       "      <td>1990</td>\n",
       "      <td>[1990] 1 SCR 1025</td>\n",
       "      <td>Canadian Archives: Documents relating to the C...</td>\n",
       "      <td>Shortt, Adam; Dought, Arthur G.</td>\n",
       "      <td>Documents relating to the Constitutional Histo...</td>\n",
       "      <td>Book</td>\n",
       "      <td>1907</td>\n",
       "    </tr>\n",
       "    <tr>\n",
       "      <th>3</th>\n",
       "      <td>1990</td>\n",
       "      <td>[1990] 1 SCR 1025</td>\n",
       "      <td>Colden, Cadwallader. The History of the Five I...</td>\n",
       "      <td>Colden, Cadwallader</td>\n",
       "      <td>The History of the Five Indian Nations of Canada</td>\n",
       "      <td>book</td>\n",
       "      <td>1747</td>\n",
       "    </tr>\n",
       "    <tr>\n",
       "      <th>4</th>\n",
       "      <td>1990</td>\n",
       "      <td>[1990] 1 SCR 1025</td>\n",
       "      <td>Garneau, François Xavier. Histoire du Canada f...</td>\n",
       "      <td>Garneau, François Xavier</td>\n",
       "      <td>Histoire du Canada français, t. 3</td>\n",
       "      <td>Les Amis de l'Histoire</td>\n",
       "      <td>1969</td>\n",
       "    </tr>\n",
       "    <tr>\n",
       "      <th>...</th>\n",
       "      <td>...</td>\n",
       "      <td>...</td>\n",
       "      <td>...</td>\n",
       "      <td>...</td>\n",
       "      <td>...</td>\n",
       "      <td>...</td>\n",
       "      <td>...</td>\n",
       "    </tr>\n",
       "    <tr>\n",
       "      <th>10458</th>\n",
       "      <td>2022</td>\n",
       "      <td>2022 SCC 9</td>\n",
       "      <td>Lederman, Sidney N., Alan W. Bryant and Michel...</td>\n",
       "      <td>Lederman, Sidney N.; Bryant, Alan W.; Fuerst, ...</td>\n",
       "      <td>Sopinka, Lederman &amp; Bryant: The Law of Evidenc...</td>\n",
       "      <td>book</td>\n",
       "      <td>2018</td>\n",
       "    </tr>\n",
       "    <tr>\n",
       "      <th>10459</th>\n",
       "      <td>2022</td>\n",
       "      <td>2022 SCC 9</td>\n",
       "      <td>McWilliams’ Canadian Criminal Evidence, vols. ...</td>\n",
       "      <td>Hill, S. Casey; Tanovich, David M.; Strezos, L...</td>\n",
       "      <td>McWilliams’ Canadian Criminal Evidence, vols. ...</td>\n",
       "      <td>na</td>\n",
       "      <td>2022</td>\n",
       "    </tr>\n",
       "    <tr>\n",
       "      <th>10460</th>\n",
       "      <td>2022</td>\n",
       "      <td>2022 SCC 9</td>\n",
       "      <td>Paciocco, David M., Palma Paciocco and Lee Stu...</td>\n",
       "      <td>Paciocco, David M.; Paciocco, Palma; Stuesser,...</td>\n",
       "      <td>The Law of Evidence, 8th ed.</td>\n",
       "      <td>book</td>\n",
       "      <td>2020</td>\n",
       "    </tr>\n",
       "    <tr>\n",
       "      <th>10461</th>\n",
       "      <td>2022</td>\n",
       "      <td>2022 SCC 9</td>\n",
       "      <td>Salhany, Roger E. Canadian Criminal Procedure,...</td>\n",
       "      <td>Salhany, Roger E.</td>\n",
       "      <td>Canadian Criminal Procedure, vol. 1</td>\n",
       "      <td>book</td>\n",
       "      <td>2021</td>\n",
       "    </tr>\n",
       "    <tr>\n",
       "      <th>10462</th>\n",
       "      <td>2022</td>\n",
       "      <td>2022 SCC 9</td>\n",
       "      <td>Wright, Cecil A. “The Law of Evidence: Present...</td>\n",
       "      <td>Wright, Cecil A.</td>\n",
       "      <td>The Law of Evidence: Present and Future</td>\n",
       "      <td>Can. Bar Rev.</td>\n",
       "      <td>1942</td>\n",
       "    </tr>\n",
       "  </tbody>\n",
       "</table>\n",
       "<p>10463 rows × 7 columns</p>\n",
       "</div>"
      ],
      "text/plain": [
       "       year  decision_citation  \\\n",
       "0      1990  [1990] 1 SCR 1005   \n",
       "1      1990  [1990] 1 SCR 1005   \n",
       "2      1990  [1990] 1 SCR 1025   \n",
       "3      1990  [1990] 1 SCR 1025   \n",
       "4      1990  [1990] 1 SCR 1025   \n",
       "...     ...                ...   \n",
       "10458  2022         2022 SCC 9   \n",
       "10459  2022         2022 SCC 9   \n",
       "10460  2022         2022 SCC 9   \n",
       "10461  2022         2022 SCC 9   \n",
       "10462  2022         2022 SCC 9   \n",
       "\n",
       "                                                   cites  \\\n",
       "0      Canada. Law Reform Commission. Working Paper 5...   \n",
       "1      Duncan, Lewis. Bankruptcy in Canada, 3rd ed. B...   \n",
       "2      Canadian Archives: Documents relating to the C...   \n",
       "3      Colden, Cadwallader. The History of the Five I...   \n",
       "4      Garneau, François Xavier. Histoire du Canada f...   \n",
       "...                                                  ...   \n",
       "10458  Lederman, Sidney N., Alan W. Bryant and Michel...   \n",
       "10459  McWilliams’ Canadian Criminal Evidence, vols. ...   \n",
       "10460  Paciocco, David M., Palma Paciocco and Lee Stu...   \n",
       "10461  Salhany, Roger E. Canadian Criminal Procedure,...   \n",
       "10462  Wright, Cecil A. “The Law of Evidence: Present...   \n",
       "\n",
       "                                                 authors  \\\n",
       "0                          Canada. Law Reform Commission   \n",
       "1                     Duncan, Lewis; Honsberger, John D.   \n",
       "2                        Shortt, Adam; Dought, Arthur G.   \n",
       "3                                    Colden, Cadwallader   \n",
       "4                               Garneau, François Xavier   \n",
       "...                                                  ...   \n",
       "10458  Lederman, Sidney N.; Bryant, Alan W.; Fuerst, ...   \n",
       "10459  Hill, S. Casey; Tanovich, David M.; Strezos, L...   \n",
       "10460  Paciocco, David M.; Paciocco, Palma; Stuesser,...   \n",
       "10461                                  Salhany, Roger E.   \n",
       "10462                                   Wright, Cecil A.   \n",
       "\n",
       "                                                   title  \\\n",
       "0                           Restitution and Compensation   \n",
       "1                          Bankruptcy in Canada, 3rd ed.   \n",
       "2      Documents relating to the Constitutional Histo...   \n",
       "3       The History of the Five Indian Nations of Canada   \n",
       "4                      Histoire du Canada français, t. 3   \n",
       "...                                                  ...   \n",
       "10458  Sopinka, Lederman & Bryant: The Law of Evidenc...   \n",
       "10459  McWilliams’ Canadian Criminal Evidence, vols. ...   \n",
       "10460                       The Law of Evidence, 8th ed.   \n",
       "10461                Canadian Criminal Procedure, vol. 1   \n",
       "10462            The Law of Evidence: Present and Future   \n",
       "\n",
       "                  publication year_pub  \n",
       "0             Working Paper 5     1974  \n",
       "1                        Book     1961  \n",
       "2                        Book     1907  \n",
       "3                        book     1747  \n",
       "4      Les Amis de l'Histoire     1969  \n",
       "...                       ...      ...  \n",
       "10458                    book     2018  \n",
       "10459                      na     2022  \n",
       "10460                    book     2020  \n",
       "10461                    book     2021  \n",
       "10462           Can. Bar Rev.     1942  \n",
       "\n",
       "[10463 rows x 7 columns]"
      ]
     },
     "execution_count": 179,
     "metadata": {},
     "output_type": "execute_result"
    }
   ],
   "source": [
    "master"
   ]
  },
  {
   "cell_type": "code",
   "execution_count": 188,
   "metadata": {},
   "outputs": [
    {
     "data": {
      "text/plain": [
       "<AxesSubplot: xlabel='year'>"
      ]
     },
     "execution_count": 188,
     "metadata": {},
     "output_type": "execute_result"
    },
    {
     "data": {
      "image/png": "[encoded data removed]",
      "text/plain": [
       "<Figure size 640x480 with 1 Axes>"
      ]
     },
     "metadata": {},
     "output_type": "display_data"
    }
   ],
   "source": [
    "# group by year and case, then count number of citations\n",
    "citations_count = master.groupby(['year', 'decision_citation'])['cites'].count()\n",
    "\n",
    "# calculate the mean of the citations count per case per year\n",
    "avg_citations = citations_count.groupby(level='year').mean()\n",
    "avg_citations.plot()"
   ]
  },
  {
   "cell_type": "markdown",
   "metadata": {},
   "source": [
    "So this shows that, for cases where there was a citation, the total number of citations per year looks to be trending down but, at least in the past few years, the average number of citations per case might be trending up a bit. The data is very noisy so it's hard to draw firm conclusions."
   ]
  },
  {
   "attachments": {},
   "cell_type": "markdown",
   "metadata": {},
   "source": [
    "Now let's use some modern AI to build a more impressive dataset. I am going to use the AI models that power ChatGPT to extract information from each citation. In particular, I'm interested in getting the author and the title of the piece. We will also see if we can get the year of publication and the journal title, if available. Here, the art is to develop a prompt that explains to the AI model what we want it to return. Let's begin with some tests."
   ]
  },
  {
   "cell_type": "code",
   "execution_count": 99,
   "metadata": {},
   "outputs": [],
   "source": [
    "import openai\n",
    "import ast"
   ]
  },
  {
   "cell_type": "code",
   "execution_count": 77,
   "metadata": {},
   "outputs": [
    {
     "data": {
      "text/plain": [
       "['Canada. Law Reform Commission. Working Paper 5. Restitution and Compensation. Ottawa: Information Canada, 1974.',\n",
       " 'Duncan, Lewis. Bankruptcy in Canada, 3rd ed. By Lewis Duncan and John D. Honsberger. Toronto: Canadian Legal Authors, 1961.',\n",
       " \"Canadian Archives: Documents relating to the Constitutional History of Canada 1759-1791, 2nd and rev. ed., Part I. Edited by Adam Shortt and Arthur G. Dought. Ottawa: King's Printer.\",\n",
       " 'Colden, Cadwallader. The History of the Five Indian Nations of Canada. London: T. Osborne, 1747.',\n",
       " \"Garneau, François Xavier. Histoire du Canada français, t. 3. Montréal: Les Amis de l'Histoire, 1969.\",\n",
       " \"Jésuites. Relations des jésuites contenant ce qui s'est passé de plus remarquable dans les missions des Pères de la Compagnie de Jésus dans la Nouvelle‑France, vol. 2. Québec: Augustin Côté, 1858.\"]"
      ]
     },
     "execution_count": 77,
     "metadata": {},
     "output_type": "execute_result"
    }
   ],
   "source": [
    "test_cites = list(master.loc[0:5,'cites'])\n",
    "test_cites"
   ]
  },
  {
   "attachments": {},
   "cell_type": "markdown",
   "metadata": {},
   "source": [
    "Now that we have these five citations, let's write a prompt that will extract information from them."
   ]
  },
  {
   "cell_type": "code",
   "execution_count": 134,
   "metadata": {},
   "outputs": [],
   "source": [
    "prompt = \"\"\"\n",
    "You are a tool used to extract bibliographic inforamtion from a citation.\n",
    "Only return a dictionary object. Do not provide any other ouput.\n",
    "Make sure all the keys are lowercase.\n",
    "I will give you a citation and it is your job to return a dictionary object with the following keys:\n",
    "-authors: (semi-colon separated list authors). This list should be of all the authors by last name, comma, first name. Do not include any middle initials.\n",
    "-title: title of paper or book\n",
    "-title of publication: journal the paper was published in. If it was published as a book, just say book. If it was published as a chapter in a book, return the title of the book\n",
    "-year of publication: year it was published in\n",
    "\n",
    "The most important thing is that the return be a dictionary object.\n",
    "Do not provide feedback or explanations. Only return dictionary objects.\n",
    "Do not provide notes. If you need to make a judgement call, make a judgement call. You are not verbose.\n",
    "If the answer to any query is null, return \"na\" in quotation marks (like this: \"na\").\"\"\""
   ]
  },
  {
   "attachments": {},
   "cell_type": "markdown",
   "metadata": {},
   "source": [
    "Now let's run the test."
   ]
  },
  {
   "cell_type": "code",
   "execution_count": 193,
   "metadata": {},
   "outputs": [
    {
     "name": "stdout",
     "output_type": "stream",
     "text": [
      "Canada. Law Reform Commission. Working Paper 5. Restitution and Compensation. Ottawa: Information Canada, 1974.\n",
      "{\n",
      "    \"authors\": \"Commission, Canada Law Reform\",\n",
      "    \"title\": \"Restitution and Compensation\",\n",
      "    \"title of publication\": \"Working Paper 5\",\n",
      "    \"year of publication\": \"1974\"\n",
      "}\n",
      "Duncan, Lewis. Bankruptcy in Canada, 3rd ed. By Lewis Duncan and John D. Honsberger. Toronto: Canadian Legal Authors, 1961.\n",
      "{'authors': 'Duncan, Lewis; Honsberger, John D.',\n",
      " 'title': 'Bankruptcy in Canada, 3rd ed.',\n",
      " 'title of publication': 'Book',\n",
      " 'year of publication': '1961'}\n",
      "Canadian Archives: Documents relating to the Constitutional History of Canada 1759-1791, 2nd and rev. ed., Part I. Edited by Adam Shortt and Arthur G. Dought. Ottawa: King's Printer.\n",
      "{\n",
      "    \"authors\": \"Shortt, Adam G.; Dought, Arthur G.\",\n",
      "    \"title\": \"Documents relating to the Constitutional History of Canada 1759-1791\",\n",
      "    \"title of publication\": \"Book\",\n",
      "    \"year of publication\": \"1907\"\n",
      "}\n",
      "Colden, Cadwallader. The History of the Five Indian Nations of Canada. London: T. Osborne, 1747.\n",
      "{'authors': 'Colden, Cadwallader', 'title': 'The History of the Five Indian Nations of Canada', 'title of publication': 'book', 'year of publication': '1747'}\n",
      "Garneau, François Xavier. Histoire du Canada français, t. 3. Montréal: Les Amis de l'Histoire, 1969.\n",
      "{\n",
      "  \"authors\": \"Garneau, François Xavier\",\n",
      "  \"title\": \"Histoire du Canada français, t. 3\",\n",
      "  \"title of publication\": \"Les Amis de l'Histoire\",\n",
      "  \"year of publication\": \"1969\"\n",
      "}\n",
      "Jésuites. Relations des jésuites contenant ce qui s'est passé de plus remarquable dans les missions des Pères de la Compagnie de Jésus dans la Nouvelle‑France, vol. 2. Québec: Augustin Côté, 1858.\n",
      "{\n",
      "  \"authors\": \"Jésuites\",\n",
      "  \"title\": \"Relations des jésuites contenant ce qui s'est passé de plus remarquable dans les missions des Pères de la Compagnie de Jésus dans la Nouvelle‑France, vol. 2\",\n",
      "  \"title of publication\": \"na\",\n",
      "  \"year of publication\": \"1858\"\n",
      "}\n"
     ]
    }
   ],
   "source": [
    "for test in test_cites:\n",
    "    res = openai.ChatCompletion.create(\n",
    "      model=\"gpt-3.5-turbo\",\n",
    "      messages=[\n",
    "            {\"role\": \"system\", \"content\": prompt},\n",
    "            {\"role\": \"user\", \"content\": test},\n",
    "        ]\n",
    "    )\n",
    "    print(test)\n",
    "    print(res['choices'][0]['message']['content'])"
   ]
  },
  {
   "attachments": {},
   "cell_type": "markdown",
   "metadata": {},
   "source": [
    "This looks very good. We'll run it for the whole dataset now. This will incur some costs, and take a few hours, so be mindful."
   ]
  },
  {
   "cell_type": "code",
   "execution_count": 155,
   "metadata": {},
   "outputs": [
    {
     "name": "stdout",
     "output_type": "stream",
     "text": [
      "This is iteration 0\n",
      "This is iteration 100\n",
      "This is iteration 200\n",
      "This is iteration 300\n",
      "This is iteration 400\n",
      "This is iteration 500\n",
      "This is iteration 600\n",
      "This is iteration 700\n",
      "This is iteration 800\n",
      "This is iteration 900\n",
      "This is iteration 1000\n",
      "This is iteration 1100\n",
      "This is iteration 1200\n",
      "This is iteration 1300\n",
      "This is iteration 1400\n",
      "This is iteration 1500\n",
      "This is iteration 1600\n",
      "This is iteration 1700\n",
      "This is iteration 1800\n",
      "This is iteration 1900\n",
      "This is iteration 2000\n",
      "This is iteration 2100\n",
      "This is iteration 2200\n",
      "error 2204\n",
      "error 2268\n",
      "This is iteration 2300\n",
      "error 2322\n",
      "This is iteration 2400\n",
      "error 2427\n",
      "error 2454\n",
      "This is iteration 2500\n",
      "This is iteration 2600\n",
      "This is iteration 2700\n",
      "This is iteration 2800\n",
      "This is iteration 2900\n",
      "This is iteration 3000\n",
      "This is iteration 3100\n",
      "This is iteration 3200\n",
      "This is iteration 3300\n",
      "This is iteration 3400\n",
      "This is iteration 3500\n",
      "This is iteration 3600\n",
      "This is iteration 3700\n",
      "This is iteration 3800\n",
      "This is iteration 3900\n",
      "error 3978\n",
      "error 3984\n",
      "This is iteration 4000\n",
      "This is iteration 4100\n",
      "This is iteration 4200\n",
      "This is iteration 4300\n",
      "This is iteration 4400\n",
      "error 4443\n",
      "This is iteration 4500\n",
      "This is iteration 4600\n",
      "This is iteration 4700\n",
      "This is iteration 4800\n",
      "This is iteration 4900\n",
      "This is iteration 5000\n",
      "This is iteration 5100\n",
      "This is iteration 5200\n",
      "This is iteration 5300\n",
      "This is iteration 5400\n",
      "This is iteration 5500\n",
      "This is iteration 5600\n",
      "This is iteration 5700\n",
      "This is iteration 5800\n",
      "error 5871\n",
      "This is iteration 5900\n",
      "This is iteration 6000\n",
      "This is iteration 6100\n",
      "This is iteration 6200\n",
      "This is iteration 6300\n",
      "This is iteration 6400\n",
      "This is iteration 6500\n",
      "This is iteration 6600\n",
      "This is iteration 6700\n",
      "This is iteration 6800\n",
      "This is iteration 6900\n",
      "This is iteration 7000\n",
      "This is iteration 7100\n",
      "This is iteration 7200\n",
      "This is iteration 7300\n",
      "This is iteration 7400\n",
      "This is iteration 7500\n",
      "This is iteration 7600\n",
      "This is iteration 7700\n",
      "This is iteration 7800\n",
      "This is iteration 7900\n",
      "This is iteration 8000\n",
      "This is iteration 8100\n",
      "error 8162\n",
      "This is iteration 8200\n",
      "This is iteration 8300\n",
      "This is iteration 8400\n",
      "This is iteration 8500\n",
      "This is iteration 8600\n",
      "error 8604\n",
      "This is iteration 8700\n",
      "This is iteration 8800\n",
      "This is iteration 8900\n",
      "error 8905\n",
      "This is iteration 9000\n",
      "error 9062\n",
      "This is iteration 9100\n",
      "This is iteration 9200\n",
      "This is iteration 9300\n",
      "This is iteration 9400\n",
      "This is iteration 9500\n",
      "This is iteration 9600\n",
      "This is iteration 9700\n",
      "This is iteration 9800\n",
      "This is iteration 9900\n",
      "error 9915\n",
      "This is iteration 10000\n",
      "This is iteration 10100\n",
      "This is iteration 10200\n",
      "This is iteration 10300\n",
      "This is iteration 10400\n"
     ]
    }
   ],
   "source": [
    "for idx,row in master.iterrows():\n",
    "    if idx % 100 == 0:\n",
    "        print(f\"This is iteration {idx}\")\n",
    "    \n",
    "    cite = row['cites']\n",
    "    flag = 'n'\n",
    "    count = 0\n",
    "    while flag == 'n':\n",
    "        try:\n",
    "            res = openai.ChatCompletion.create(\n",
    "            model=\"gpt-3.5-turbo\",\n",
    "            messages=[\n",
    "                    {\"role\": \"system\", \"content\": prompt},\n",
    "                    {\"role\": \"user\", \"content\": cite},\n",
    "                ]\n",
    "            )\n",
    "            \n",
    "            answer = ast.literal_eval(res['choices'][0]['message']['content'])\n",
    "            master.loc[idx,'authors'] = answer['authors']\n",
    "            master.loc[idx,'title'] = answer['title']\n",
    "            master.loc[idx,'publication'] = answer['title of publication']\n",
    "            master.loc[idx,'year_pub'] = answer['year of publication']\n",
    "            flag = 'y'\n",
    "        except:\n",
    "            count += 1\n",
    "            if count == 5:\n",
    "                print(f'error {idx}')\n",
    "                flag = 'y'\n",
    "                master.loc[idx,'authors'] = 'error'\n",
    "                master.loc[idx,'title'] = 'error'\n",
    "                master.loc[idx,'publication'] = 'error'\n",
    "                master.loc[idx,'year_pub'] = 'error'"
   ]
  },
  {
   "attachments": {},
   "cell_type": "markdown",
   "metadata": {},
   "source": [
    "Let's save our results:"
   ]
  },
  {
   "cell_type": "code",
   "execution_count": 164,
   "metadata": {},
   "outputs": [],
   "source": [
    "master.to_csv('results.csv')"
   ]
  },
  {
   "attachments": {},
   "cell_type": "markdown",
   "metadata": {},
   "source": [
    "And now let's do some exploratory analysis."
   ]
  },
  {
   "cell_type": "code",
   "execution_count": 167,
   "metadata": {},
   "outputs": [
    {
     "data": {
      "text/plain": [
       "Book                                2832\n",
       "book                                2039\n",
       "na                                  1008\n",
       "Can. Bar Rev.                        181\n",
       "McGill L.J.                          116\n",
       "House of Commons Debates             101\n",
       "Crim. L.Q.                            91\n",
       "C.R.                                  81\n",
       "S.C.L.R.                              75\n",
       "U.T.L.J.                              68\n",
       "Alta. L. Rev.                         64\n",
       "Can. Bus. L.J.                        55\n",
       "R. du B.                              54\n",
       "Osgoode Hall L.J.                     47\n",
       "Queen’s L.J.                          45\n",
       "U.B.C. L. Rev.                        37\n",
       "Canadian Family Law Quarterly         35\n",
       "Ottawa L. Rev.                        34\n",
       "R.G.D.                                33\n",
       "Harv. L. Rev.                         33\n",
       "C. de D.                              33\n",
       "R.J.T.                                32\n",
       "Queen's L.J.                          27\n",
       "Sask. L. Rev.                         26\n",
       "N.J.C.L.                              26\n",
       "Can. J. Fam. L.                       26\n",
       "R.F.L.                                25\n",
       "Man. L.J.                             25\n",
       "Canada. House of Commons Debates      25\n",
       "U.T. Fac. L. Rev.                     25\n",
       "Name: publication, dtype: int64"
      ]
     },
     "execution_count": 167,
     "metadata": {},
     "output_type": "execute_result"
    }
   ],
   "source": [
    "master['publication'].value_counts().head(30)"
   ]
  },
  {
   "cell_type": "code",
   "execution_count": 192,
   "metadata": {},
   "outputs": [
    {
     "data": {
      "text/plain": [
       "na                                                     544\n",
       "Sullivan, Ruth                                         132\n",
       "Canada, House of Commons                               114\n",
       "Hogg, Peter W                                           97\n",
       "Driedger, Elmer A.                                      79\n",
       "Stuart, Don                                             64\n",
       "Côté, Pierre-André                                      54\n",
       "Sopinka, John; Lederman, Sidney N.; Bryant, Alan W.     52\n",
       "Canada                                                  52\n",
       "Wigmore, John Henry                                     46\n",
       "Canada. Law Reform Commission                           42\n",
       "Hogg, Peter W.                                          39\n",
       "Côté, Pierre‑André                                      37\n",
       "Roach, Kent                                             35\n",
       "Bala, Nicholas                                          33\n",
       "Name: authors, dtype: int64"
      ]
     },
     "execution_count": 192,
     "metadata": {},
     "output_type": "execute_result"
    }
   ],
   "source": [
    "master['authors'].value_counts().head(15)"
   ]
  },
  {
   "attachments": {},
   "cell_type": "markdown",
   "metadata": {},
   "source": [
    "Ok, we can reach some tentative conclusions to our research questions.\n",
    "\n",
    "1) The number of non-case citations has been trending down, but there may be a bit of a spike lately per case.\n",
    "2) The most cited author is Peter Hogg (he shows up on the list twice). After Professor Hogg, Ruth Sullivan is the most cited scholar.\n",
    "3) The most cited journal is the Canadian Bar Review."
   ]
  }
 ],
 "metadata": {
  "kernelspec": {
   "display_name": "base",
   "language": "python",
   "name": "python3"
  },
  "language_info": {
   "codemirror_mode": {
    "name": "ipython",
    "version": 3
   },
   "file_extension": ".py",
   "mimetype": "text/x-python",
   "name": "python",
   "nbconvert_exporter": "python",
   "pygments_lexer": "ipython3",
   "version": "3.10.8"
  },
  "orig_nbformat": 4
 },
 "nbformat": 4,
 "nbformat_minor": 2
}
