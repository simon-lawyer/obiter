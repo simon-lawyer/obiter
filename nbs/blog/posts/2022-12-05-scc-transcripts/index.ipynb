{
 "cells": [
  {
   "cell_type": "markdown",
   "id": "566ce374-4014-45e9-b562-aaec7eae3c36",
   "metadata": {},
   "source": [
    "---\n",
    "title: \"Supreme (AI) Transcripts\"\n",
    "description: \"Leveraging state-of-the-art artificial intelligence models to transcribe Supreme Court of Canada hearings\"\n",
    "author: \"Simon Wallace\"\n",
    "date: \"12/05/2022\"\n",
    "sidebar: false\n",
    "image: images/screenshot.png\n",
    "\n",
    "---"
   ]
  },
  {
   "cell_type": "markdown",
   "id": "b2d00115-9635-45e1-b722-98ed8835b83c",
   "metadata": {},
   "source": [
    "***\n",
    "![](images/screenshot.png)\n",
    "\n",
    "***\n",
    "\n",
    "::: {.callout-tip}\n",
    "## Project Output\n",
    "[Review the AI transcripts here](https://obiter.ai/scc/)\n",
    ":::\n",
    "\n",
    "### Using AI to increase access to law\n",
    "The Supreme Court of Canada is dedicated to promoting public access to its work, and one way it does this is by broadcasting webcasts of most of its hearings on its [website](https://scc-csc.ca/case-dossier/info/webcasts-webdiffusions-eng.aspx). These webcasts are an invaluable resource for anyone interested in the Court's proceedings, including lawyers, researchers, law students, and journalists. They allow these groups to see how the Court's judges engage with the issues before them, and to gain a better appreciation of the Court's work.\n",
    "\n",
    "However, video can be an imperfect medium for legal analysis. It is telling that most lawyers prefer to work with transcripts of proceedings because they are faster to review and easier to search. \n",
    "\n",
    "Video and audio are difficult to analyze quantitatively, making it challenging for researchers to explore patterns in argumentation and advocacy. In contrast, in the United States, [transcripts](https://www.supremecourt.gov/oral_arguments/argument_transcript/2022) of each Supreme Court case are published, providing researchers with a valuable tool for empirical analysis.\n",
    "\n",
    "Video also poses accessibility problems. Without closed captions or transcripts, the information in video and audio files is inaccessible to people with some types of sensory disabilities. \n",
    "\n",
    "To further support access to the Court's proceedings, and to provide resources to researchers, I have developed an AI transcriptionist that can automatically generate transcripts of the Court's proceedings from its webcasts. This technology can provide a new user-friendly and accessible way for individuals to access and analyze the Court's proceedings. It will also enable more comprehensive analyses of the Court's work, which could provide valuable insights and improve our understanding of Court's operations.\n",
    "\n",
    "### Capabilities of an AI transcriber\n",
    "Today, I am [publishing 122 transcripts](https://obiter.ai/scc/), covering each webcast published between January 1, 2020 and November 3, 2022. Soon, I will open source all of my code. This transcriptionist can:\n",
    "\n",
    "- transcribe hours long hearings in seconds;\n",
    "- accurately transcribe French and English;\n",
    "- recognize different speakers;\n",
    "- note when people are speaking over each other; and,\n",
    "- correctly identify Supreme Court of Canada justices.\n",
    "\n",
    "This is an exciting technological moment. For cents on the dollar, an AI transcriptionist can produce a high fidelity, multi-lingual transcript.\n",
    "\n",
    "This transcriptionist is based on the latest open-source technology. It uses the [whisper](https://openai.com/blog/whisper/) and [pyannote](https://pyannote.github.io) libraries to accurately transcribe and diarize speech, and the [SpeechBrain](https://speechbrain.github.io) library for advanced speech recognition.\n",
    "\n",
    "### Limitiations of AI transcripts\n",
    "Of course, the transcriptionist is far from perfect, and its outputs should be used cautiously. In some cases, the transcriber inappropriately guess at or hallucinates meaning that is not present in the text. In other cases, it inappropriately repeats itself, getting stuck in its own loop.\n",
    "\n",
    "Consider this example. The AI was trained on over 600,000 hours of audio and it looks like a lot of that audio was from Youtube. Sometimes the AI thinks it knows what someone will say, based on what it has heard before, but gets it wildly wrong. Here, for example, a lawyer did not actually invite the judges to leave their questions in the comments:\n",
    "\n",
    "***\n",
    "![](images/comments.png)\n",
    "\n",
    "***\n",
    "\n",
    "Like human transcriptionists, the AI often gets names wrongs and struggles when people speak over each other. Often it won't quite get the moment of speaker change exactly right, sometimes attributing text to the person who was interrupted over the person who did the interrupting. With further development and time, no doubt the technology will improve.\n",
    "\n",
    "You will notice that the AI performs better on long texts and poorly on short segments. Notice that each hearing begins with a clerk introducing the Court ('La Court! The Court!'). Because this introduction is so short and the speaker is distant from the microphone, the AI often gets this introduction wrong. \n",
    "\n",
    "It is also difficult for the transcriber to consistently apply the same grammar rules to different speakers. My impression is that when people speak slowly and read from a prepared text, the transcriber does a better job if splitting up sentences and applying correct punctuation. As people begin to speak faster, it is harder for the AI to keep up and determine how the text should be organized."
   ]
  }
 ],
 "metadata": {
  "kernelspec": {
   "display_name": "Python 3 (ipykernel)",
   "language": "python",
   "name": "python3"
  }
 },
 "nbformat": 4,
 "nbformat_minor": 5
}
