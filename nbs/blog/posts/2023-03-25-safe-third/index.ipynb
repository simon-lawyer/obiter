{
 "cells": [
  {
   "cell_type": "raw",
   "metadata": {},
   "source": [
    "---\n",
    "title: \"Practical *Safe Third Country* Advocacy for lawyers\"\n",
    "date: \"2023-03-25\"\n",
    "author: \"Simon Wallace\"\n",
    "description: \"A legal strategy for claimants caught by the STCA\"\n",
    "sidebar: false\n",
    "image: https://obiter.ai/blog/posts/2023-03-25-safe-third/images/border.jpg\n",
    "---"
   ]
  },
  {
   "attachments": {},
   "cell_type": "markdown",
   "metadata": {},
   "source": [
    "## Practical *Safe Third Country Agreement* Advocacy\n",
    "On March 24, 2023, an expanded [*Safe Third Country Agreement*](https://www.canada.ca/en/immigration-refugees-citizenship/corporate/mandate/policies-operational-instructions-agreements/agreements/safe-third-country-agreement.html) came into effect. Not all the regulatory details have been published yet, but the purpose of this expansion is to preclude asylum seekers who travel to Canada from the United States of America from claiming refugee protection in Canada. \n",
    "\n",
    "![](images/border.jpg)\n",
    "\n",
    "The new agreement tightens a pre-existing framework that prevented most people who traveled to Canada from the US by way of official border crossings from entering Canada to make a refugee claim by now including people who cross into Canada irregularly. If anything, the new rules obviously aim to close semi-official Roxham Road route into Canada used by refugees in the United States who want to come to Canada.\n",
    "\n",
    "The Supreme Court of Canada is currently considering a challenge to the old agreement and, of this I am certain, there will be new constitutional challenges to the new law. I do not propose to canvas the arguments that may be raised in those cases. Instead, in this post I have a more modest ambition. For a lawyer who is not able to raise a major constitutional challenge on behalf of a client captured by the new agreement, I suggest a practical strategy to base their advocacy on.\n",
    "\n",
    "Based off of what I can piece together from media reports, the text of the agreement, and American regulatory instruments, it appears that there is a way for lawyers to help *some* refugees who would otherwise be captured by the agreement to enter Canada to make a claim.\n",
    "\n",
    "In what follows, I sketch out how lawyers can make practical arguments to allow clients who cross into Canada irregularly to still make claims in Canada. The proposal here does not describe a major assault on the law. Rather, here I sketch out a practical approach that could smooth out some rough edges for some people in rare circumstances.\n",
    "\n",
    "**Bottom line:** The agreement explains that people who make claims within 14 days of crossing into Canada irregularly can be returned to the United States. This means that it is open to claimants and lawyers to ask Canada to delay or defer an examination so that they can make a claim. If the request is unreasonably or unfairly refused, they can challenge the refusal in court.\n",
    "\n",
    "This mechanism--seek a deferral, litigate refusals--is well trodden path. At best, it offers individualized relief to a small number of people. But as the legal community develops its analyzes and responses to the amended agreement, this is one legal tool that may be useful.\n",
    "\n",
    "## What we know about the new agreement and the statutory context\n",
    "In March 2023, Canada and the United States executed [an agreement](https://www.canada.ca/en/immigration-refugees-citizenship/corporate/mandate/policies-operational-instructions-agreements/agreements/safe-third-country-agreement/additional-protocol.html) that expanded the scope of the existing **Safe Third Country** protocol.[It looks like the agreement came together suddenly because the purported dates of the agreement are off by a year.]{.aside} The original agreement is simple. It explains that refugees in either the United States or Canada who travel to the other country by way of an official border crossing are not eligible to make a refugee claim in the other country. If an ineligible person tries to claim protection at an official border crossing, they can be returned to the country from which they came.\n",
    "\n",
    "The updated agreement fundamentally describes one new major provision to the existing agreement. Now, people who cross into Canada or the United States *irregularly* from either country can be returned if they \"make a refugee status claim within 14 days after such crossing.\"\n",
    "\n",
    "To the drafter's credit, this new provision is clear and practical. In the normal course, if a person crosses into Canada irregularly and are apprehended, they can be removed (i.e. deported) expeditiously. The *Immigration and Refugee Protection Act* (IRPA) explains that people who enter Canada in breach if the law are 'inadmissible' and deportable. If an officer forms the opinion that a person is inadmissible, they can refer the person to a hearing (of a sort) where a senior officer will issue a removal order. Provided there are no impediments to removal, that removal order can be expeditiously enforced.\n",
    "\n",
    "For refugee claimants, the fact of their refugee claim is (or, I should say, was) an impediment to their removal. Usually, refugee claimants formally initiated their claim for protection during their hearing into their inadmissibility.\n",
    "\n",
    "So, the new agreement functions by, for people who encounter an officer within 14 days of crossing into Canada, eliminating their right to make a claim for refugee protection to delay their removal.\n",
    "\n",
    "There are three ways to read this 14-day window. First, it looks like this two week window parallels existing American expedited removal programs.[Designating Aliens For Expedited Removal, 69 FR 48877, 48877 (Aug. 11, 2004).]{.aside} This indicates that the Americans want to keep some of their deportation policies lined up. \n",
    "\n",
    "Second, regardless of textual reasons, the overarching purpose is surely to afford border authorities with a margin to operate in. I doubt that the idea here is that border authorities will be in hot pursuit of migrants for 14 days. Instead, I expect that this is an implicit acknowledgement of how the machinery of government can move slowly. Even if someone is apprehended immediately at the border, border agents are still required to assess their case for some exceptions and the receiving state is entitled to request some substantiating information before accepting the person back.\n",
    "\n",
    "But, third, the 14-day window can also be read as a (limited) legal entitlement to claimants. The drafters of the agreement could have said, for example, that **all** people who cross irregularly into Canada from the United States may be returned, but instead they decided to focus on a narrower subset: those who claim within 14-days.\n",
    "\n",
    "On the one hand, this reads as an incentive to claimants to go underground for a limited period of time and then make a claim but, on the other, is reads as an invitation. What should a refugee claimant who is apprehended crossing irregularly into Canada do? They should ask that their examination be deferred so that they can initiate their claim outside of the 14-day window.\n",
    "\n",
    "This type of request is a familiar one for immigration practitioners. Canadian law explains that the government is required to enforce removal orders \"as soon as possible,\" but courts also acknowledge that there is a limited discretion available to the government to delay or defer some deportations in limited cases. For this reason, it is very common for deportees to ask the government to delay their removal by a few days, a few weeks, or a few months. In some cases, these requests are refused. When that happens, deportees are entitled to apply to the Federal Court of Canada for injunctive relief to prevent their removal.\n",
    "\n",
    "The suggestion in this post is that the same mechanism can be used by people who cross into Canada irregularly to make a claim. But instead of seeking to defer their removal, they ought to ask to defer their examination and inadmissibility hearing to after the fourteen-day window. If that request is denied (and there is an administrative law error with the decision), they may seek relief in the Federal Court of Canada.\n",
    "\n",
    "In what kind of circumstances could this strategy provide relief? It is difficult to say at this stage. The jurisprudence will have to develop in a manner responsive to the needs of claimants.\n",
    "\n",
    "## Practical implications\n",
    "To be clear, the practical strategy sketched out here offers relief in rare cases, not most cases. Neither the government nor the Courts (barring a substantive challenge to the agreement) will countenance the idea that a procedural mechanism could regularly defeat the purpose of the new agreement. But rare and exceptional cases will arise and, for lawyers assisting persons with those cases, this sort of maneuver might provide relief against the sharpest edges of the expanded agreement.\n"
   ]
  },
  {
   "cell_type": "markdown",
   "metadata": {},
   "source": []
  }
 ],
 "metadata": {
  "kernelspec": {
   "display_name": "base",
   "language": "python",
   "name": "python3"
  }
 },
 "nbformat": 4,
 "nbformat_minor": 2
}
