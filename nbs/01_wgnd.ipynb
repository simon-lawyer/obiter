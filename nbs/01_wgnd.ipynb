{
 "cells": [
  {
   "attachments": {},
   "cell_type": "markdown",
   "metadata": {},
   "source": [
    "# Name-gender coding\n",
    "\n",
    "> A thin wrapper around the (World Gender Name Dictionary 2.0)."
   ]
  },
  {
   "cell_type": "code",
   "execution_count": null,
   "metadata": {},
   "outputs": [],
   "source": [
    "#| default_exp wgnd"
   ]
  },
  {
   "cell_type": "code",
   "execution_count": null,
   "metadata": {},
   "outputs": [],
   "source": [
    "#| hide\n",
    "from nbdev.showdoc import *"
   ]
  },
  {
   "cell_type": "code",
   "execution_count": null,
   "metadata": {},
   "outputs": [],
   "source": [
    "#| export\n",
    "import pandas as pd\n",
    "import requests\n",
    "from io import StringIO"
   ]
  },
  {
   "cell_type": "code",
   "execution_count": null,
   "metadata": {},
   "outputs": [],
   "source": [
    "#| export\n",
    "#| hide\n",
    "\n",
    "# this class downloads data from the WGND2.0 cite\n",
    "# It includes a function to parse the data downloaded\n",
    "class wgnd:\n",
    "    def __init__(self):\n",
    "        print('Downloading data from WGND2.0')\n",
    "        print('WGND 2.0 name-gender (_i.e._ No code) contains 3,491,141 unique name observations. \\nThis file is based on WGND 2.0 name-gender-code but it omits all known conflicting names across sources, geography and gender.')\n",
    "        print('\\nRead about the project here: https://dataverse.harvard.edu/dataset.xhtml?persistentId=doi:10.7910/DVN/MSEGSJ')\n",
    "        print('\\nDataset citation: Raffo, Julio, 2021, \"WGND 2.0\", https://doi.org/10.7910/DVN/MSEGSJ, Harvard Dataverse, V1, UNF:6:5rI3h1mXzd6zkVhHurelLw== [fileUNF]')\n",
    "        self.url = 'https://dataverse.harvard.edu/api/access/datafile/4750351'\n",
    "        s = requests.get(self.url).content\n",
    "        self.names = pd.read_csv(StringIO(s.decode('utf-8')), sep='\\t')\n",
    "        print('Data downloaded')\n",
    "    \n",
    "    def get_gender(self,name):\n",
    "        #lookup a name in the datase (name column) and get the gender from the gender column\n",
    "        #if the name is not found, return 'unknown'\n",
    "\n",
    "        matches = self.names[self.names['name'] == name.lower()]\n",
    "        if len(matches) == 0:\n",
    "            return 'unknown'\n",
    "        return matches.iloc[0][\"gender\"]"
   ]
  },
  {
   "attachments": {},
   "cell_type": "markdown",
   "metadata": {},
   "source": [
    "This is a thin wrapper around the [World Gender Name Dictionary 2.0 (WGND)](https://www.wipo.int/publications/en/details.jsp?id=4554). The WGND is a dataset of name-gender pairs. It was originally produced to help historians of science and intellectual property to measure \"women’s contribution to all fields of innovation and creativity.\" The WGND 2.0 contains \"26 million records linking given names and 195 different countries and territories.\"\n",
    "\n",
    "This implementation is limited. It only includes name-gender pairs when there is conflict betwee names across sources, geography, and gender. Put differently, this wrapper only reports the gendered valance of a name when there is not controversy within the larger WGND 2.0 database."
   ]
  },
  {
   "attachments": {},
   "cell_type": "markdown",
   "metadata": {},
   "source": [
    "## Demonstration\n",
    "\n",
    "### Initialize the program\n",
    "```sh\n",
    "from obiter.wgnd import *\n",
    "```"
   ]
  },
  {
   "cell_type": "code",
   "execution_count": null,
   "metadata": {},
   "outputs": [
    {
     "name": "stdout",
     "output_type": "stream",
     "text": [
      "Downloading data from WGND2.0\n",
      "WGND 2.0 name-gender (_i.e._ No code) contains 3,491,141 unique name observations. \n",
      "This file is based on WGND 2.0 name-gender-code but it omits all known conflicting names across sources, geography and gender.\n",
      "\n",
      "Read about the project here: https://dataverse.harvard.edu/dataset.xhtml?persistentId=doi:10.7910/DVN/MSEGSJ\n",
      "\n",
      "Dataset citation: Raffo, Julio, 2021, \"WGND 2.0\", https://doi.org/10.7910/DVN/MSEGSJ, Harvard Dataverse, V1, UNF:6:5rI3h1mXzd6zkVhHurelLw== [fileUNF]\n",
      "Data downloaded\n"
     ]
    }
   ],
   "source": [
    "database = wgnd()"
   ]
  },
  {
   "cell_type": "code",
   "execution_count": null,
   "metadata": {},
   "outputs": [
    {
     "name": "stdout",
     "output_type": "stream",
     "text": [
      "M\n"
     ]
    }
   ],
   "source": [
    "print(database.get_gender('Simon'))"
   ]
  },
  {
   "cell_type": "code",
   "execution_count": null,
   "metadata": {},
   "outputs": [
    {
     "name": "stdout",
     "output_type": "stream",
     "text": [
      "F\n"
     ]
    }
   ],
   "source": [
    "print(database.get_gender('Dana'))"
   ]
  },
  {
   "cell_type": "code",
   "execution_count": null,
   "metadata": {},
   "outputs": [
    {
     "name": "stdout",
     "output_type": "stream",
     "text": [
      "unknown\n"
     ]
    }
   ],
   "source": [
    "print(database.get_gender('Vic'))"
   ]
  },
  {
   "cell_type": "code",
   "execution_count": null,
   "metadata": {},
   "outputs": [],
   "source": [
    "#| hide\n",
    "import nbdev; nbdev.nbdev_export()"
   ]
  }
 ],
 "metadata": {
  "kernelspec": {
   "display_name": "Python 3 (ipykernel)",
   "language": "python",
   "name": "python3"
  }
 },
 "nbformat": 4,
 "nbformat_minor": 4
}
