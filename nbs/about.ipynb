{
 "cells": [
  {
   "cell_type": "markdown",
   "id": "d5408910",
   "metadata": {},
   "source": [
    "---\n",
    "title: \"Simon Wallace, PhD student\"\n",
    "\n",
    "---"
   ]
  },
  {
   "cell_type": "markdown",
   "id": "07955ec9",
   "metadata": {},
   "source": []
  },
  {
   "cell_type": "markdown",
   "id": "90f637b3",
   "metadata": {},
   "source": [
    "![\"Simon as a lawyer\" AI Artist (2022)](images/sketch.jpeg){fig-align=\"left\"}\n",
    "\n",
    "Simon is a lawyer and a PhD student at [Osgoode Hall Law School](https://www.osgoode.yorku.ca), [York University](https://www.yorku.ca). He holds a SSHRC [Canada Graduate Scholarship](https://www.nserc-crsng.gc.ca/Students-Etudiants/PG-CS/CGSD-BESCD_eng.asp).\n",
    "\n",
    "He has two research agendas:\n",
    "\n",
    "1. **Computational research methods and law and technology:** How can *state of the art* computational approaches advance the empirical study of law? Simon's research explores how modern artificial intelligence technologies can read, digest, and organize legal data at scale.\n",
    "\n",
    "2. **Immigration enforcement law, history, and policy:** As an immigration lawyer, Simon explores foundational questions about Canadian immigration law. He is especially interested in early twentieth century deportation policy. He has written and presented on [humanitarian and compassionate policy](https://scholar.google.com/citations?view_op=view_citation&hl=en&user=kCt-svsAAAAJ&citation_for_view=kCt-svsAAAAJ:u5HHmVD_uO8C), \"crimmigration,\" immigration detention, [inadmissibility law and crimes against humanity](https://scholar.google.com/citations?view_op=view_citation&hl=en&user=kCt-svsAAAAJ&citation_for_view=kCt-svsAAAAJ:9yKSN-GCB0IC), and the [intersections between evidence law and immigration law](https://papers.ssrn.com/sol3/papers.cfm?abstract_id=3915791).\n",
    "\n",
    "Simon was the [Refugee Law Office's](https://www.legalaid.on.ca/documents/refugee-law-office/) (Legal Aid Ontario) first full-time immigration detention lawyer, where he represented hundreds of detainees at detention reviews and emergency stay of deportation hearings. He often represented detainees held in long-term solitary confinement. \n",
    "\n",
    "Before that, he worked in private practice as a refugee lawyer, a prisoners' rights lawyer, and a [tenants'](https://www.thestar.com/news/gta/2018/03/23/tenants-say-flimsy-law-opens-door-to-renovictions.html) [rights](https://www.thestar.com/news/gta/2017/02/08/parkdale-tenants-take-to-the-street-to-fight-rent-hike.html) lawyer. Simon has [appeared](https://www.canlii.org/en/#search/text=%22Simon%20Wallace%22) before the Supreme Court of Canada, the Federal Court of Canada, the Ontario Superior Court of Justice, the Ontario Court of Justice, and many administrative tribunals.\n",
    "\n",
    "Simon runs, bikes, reads the [LRB](https://www.lrb.co.uk), and watches [Gabby's Playhouse](https://www.netflix.com/title/81009946) with his toddler."
   ]
  }
 ],
 "metadata": {
  "kernelspec": {
   "display_name": "Python 3 (ipykernel)",
   "language": "python",
   "name": "python3"
  }
 },
 "nbformat": 4,
 "nbformat_minor": 5
}
