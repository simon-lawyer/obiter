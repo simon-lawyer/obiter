{
 "cells": [
  {
   "cell_type": "code",
   "execution_count": null,
   "metadata": {},
   "outputs": [],
   "source": [
    "#| hide\n",
    "from obiter.canlii_api import *"
   ]
  },
  {
   "cell_type": "markdown",
   "metadata": {},
   "source": [
    "# Obiter.AI\n",
    "\n",
    "> Computational research tools for lawyers"
   ]
  },
  {
   "cell_type": "markdown",
   "metadata": {},
   "source": [
    "Computational methods and artificial intelligence will revolutionize the study and practice of law. \n",
    "\n",
    "Over the past few decades, the volume of legal data increased exponentially. In Canada, an average size tribunal will issue tens of millions of words each year. Thousands of hours of proceedings will be recorded. Trillions of words will be filed as evidence. \n",
    "\n",
    "Making sense of, and understanding this data, is a pressing challenge for scholars and lawyers. Is the law consistent? Do different adjudicators reach similiar conclusions when presented with similiar facts? What types of disputes are people bringing to decision makers? How are those disputes resolved?\n",
    "\n",
    ":::{.column-margin}\n",
    "![\"A computer calls a database,\" AI artist (2022)](images/computer_calls.jpg){fig-alt='\"Computer calls a database,\" AI artist (2022)'}\n",
    ":::\n",
    "\n",
    "Answering these questions at scale exceeds human capacities. Consider this example. In 2021, the [Veterans Review and Appeal Board of Canada](https://www.vrab-tacra.gc.ca/language_selection_page?destination=/node/578), issued [3,817 written decisions](https://www.canlii.org/en/ca/cavrab/nav/date/2021/). If each decision averages 2,500 words in length, the tribunal outputted 9,542,000 words---the equivalent of 16 editions of *War and Peace*. Practically, this volume means that the jurisprudence regarding veterans, disability, and compensation cannot be comprehensively grasped or synthesized by researchers.\n",
    "\n",
    "But computers are not so limited. Recent advances in artificial intelligence and machine learning have significantly expanded machines' ability to understand, organize, and sythesize complex data. Computers can now credibly answer complex questions about documents, detect patterns, and reason with facts.\n",
    "\n",
    "Lawyers, law students, and researchers should understand how these methods can be leveraged for research at scale. The goal of **Obiter.AI** is to build out a suite of open source and accessible computational tools to facilitate computational research of Canadian law."
   ]
  },
  {
   "cell_type": "markdown",
   "metadata": {},
   "source": [
    "## Install"
   ]
  },
  {
   "cell_type": "markdown",
   "metadata": {},
   "source": [
    "```sh\n",
    "pip install obiter\n",
    "```"
   ]
  },
  {
   "cell_type": "markdown",
   "metadata": {},
   "source": [
    "## Functionality"
   ]
  },
  {
   "cell_type": "markdown",
   "metadata": {},
   "source": [
    "### Interact with CanLii programmatically"
   ]
  },
  {
   "cell_type": "markdown",
   "metadata": {},
   "source": [
    "### Transcribe hearings\n",
    "Coming soon."
   ]
  },
  {
   "cell_type": "markdown",
   "metadata": {},
   "source": [
    "### Network analyses of citations \n",
    "Coming soon."
   ]
  },
  {
   "cell_type": "markdown",
   "metadata": {},
   "source": [
    "### Network analyses of keywords\n",
    "Coming soon."
   ]
  }
 ],
 "metadata": {
  "kernelspec": {
   "display_name": "Python 3 (ipykernel)",
   "language": "python",
   "name": "python3"
  }
 },
 "nbformat": 4,
 "nbformat_minor": 4
}
