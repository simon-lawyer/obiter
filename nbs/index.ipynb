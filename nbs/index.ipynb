{
 "cells": [
  {
   "cell_type": "markdown",
   "metadata": {},
   "source": [
    "---\n",
    "title: Obiter.Ai\n",
    "pagetitle: Obiter.Ai\n",
    "section-divs: false\n",
    "description: Bringing modern computational research tools to lawyers, law students, and researchers.\n",
    "sidebar: false\n",
    "image: http://obiter.ai/images/computer_calls.jpg\n",
    "      \n",
    "---"
   ]
  },
  {
   "cell_type": "code",
   "execution_count": null,
   "metadata": {},
   "outputs": [],
   "source": [
    "#| hide\n",
    "from obiter.canlii_api import *"
   ]
  },
  {
   "cell_type": "markdown",
   "metadata": {},
   "source": [
    "Computational methods and artificial intelligence will transform the study and practice of law by significantly expanding the reach of empirical enquiries.\n",
    "\n",
    ":::{.column-margin}\n",
    "![\"A computer calls a database,\" AI artist (2022)](images/computer_calls.jpg){fig-alt='\"Computer calls a database,\" AI artist (2022)'.preview-image}\n",
    ":::\n",
    "\n",
    "The volume of legal data increased exponentially over the past decades. In Canada, an average size tribunal will issue tens of millions of words each year. Thousands of hours of proceedings will be recorded. Trillions of words will be filed as evidence. \n",
    "\n",
    "Making sense of, and understanding this data, is a pressing challenge for scholars and lawyers. Is the law consistent? Do different adjudicators reach similiar conclusions when presented with similiar facts? What types of disputes are people bringing to decision makers? How are those disputes resolved?\n",
    "\n",
    "\n",
    "Answering these questions at scale exceeds human capacities. Consider this example. In 2021, the [Ontario Workplace Safety and Insurance Appeals Tribunal](https://www.wsiat.on.ca/en/home/announcements.html), issued [2,053 written decisions](https://www.canlii.org/en/on/onwsiat/nav/date/2021/). If each decision averages 2,500 words in length, the tribunal outputted 5,132,500 words---the equivalent of 9 editions of *War and Peace*. Practically, this sheer quantity of data means that the jurisprudence regarding workers, disability, and compensation cannot be comprehensively grasped or synthesized by researchers. Who could ever read so much?\n",
    "\n",
    "But computers are not so limited. Recent advances in artificial intelligence and machine learning have significantly expanded machines' ability to understand, organize, and sythesize complex data. Computers can now credibly answer complex questions about documents, detect patterns, and reason with facts.\n",
    "\n",
    "Lawyers, law students, and researchers should understand how these methods can be leveraged for research at scale. The goal of **Obiter.Ai** is to build out a suite of open source and accessible computational tools to facilitate computational research of Canadian law."
   ]
  }
 ],
 "metadata": {
  "kernelspec": {
   "display_name": "Python 3 (ipykernel)",
   "language": "python",
   "name": "python3"
  }
 },
 "nbformat": 4,
 "nbformat_minor": 4
}
